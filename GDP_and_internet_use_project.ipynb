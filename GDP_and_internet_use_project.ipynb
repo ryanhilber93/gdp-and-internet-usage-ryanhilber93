{
 "cells": [
  {
   "cell_type": "markdown",
   "metadata": {},
   "source": [
    "# GDP and Internet Use "
   ]
  },
  {
   "cell_type": "markdown",
   "metadata": {},
   "source": [
    "Imports"
   ]
  },
  {
   "cell_type": "code",
   "execution_count": 1,
   "metadata": {},
   "outputs": [],
   "source": [
    "import pandas as pd\n",
    "import numpy as np\n",
    "import matplotlib.pyplot as plt\n",
    "import seaborn as sns\n",
    "%matplotlib inline"
   ]
  },
  {
   "cell_type": "markdown",
   "metadata": {},
   "source": [
    "5. Using the pandas read_csv() method, read the GDP dataset into your notebook as a DataFrame called gdp_df. Take a look at the first 6 rows."
   ]
  },
  {
   "cell_type": "code",
   "execution_count": 2,
   "metadata": {
    "scrolled": true
   },
   "outputs": [
    {
     "name": "stdout",
     "output_type": "stream",
     "text": [
      "  Country or Area  Year        Value  Value Footnotes\n",
      "0     Afghanistan  2018  2190.240321              NaN\n",
      "1     Afghanistan  2017  2202.570851              NaN\n",
      "2     Afghanistan  2016  2200.764487              NaN\n",
      "3     Afghanistan  2015  2212.750899              NaN\n",
      "4     Afghanistan  2014  2249.253738              NaN\n",
      "5     Afghanistan  2013  2264.317575              NaN\n"
     ]
    }
   ],
   "source": [
    "gdp_df = pd.read_csv(\"data/gdp_percapita.csv\")\n",
    "print(gdp_df.head(6))"
   ]
  },
  {
   "cell_type": "markdown",
   "metadata": {},
   "source": [
    "6. Repeat for the internet use dataset. Call this DataFrame internet_df. Take a look at the first six rows."
   ]
  },
  {
   "cell_type": "code",
   "execution_count": 3,
   "metadata": {
    "scrolled": false
   },
   "outputs": [
    {
     "name": "stdout",
     "output_type": "stream",
     "text": [
      "  Country or Area  Year             Value Value Footnotes\n",
      "0     Afghanistan  2014              6.39             NaN\n",
      "1     Afghanistan  2013               5.9             NaN\n",
      "2     Afghanistan  2012  5.45454545454545             NaN\n",
      "3     Afghanistan  2011                 5             NaN\n",
      "4     Afghanistan  2010                 4             NaN\n",
      "5     Afghanistan  2009              3.55             NaN\n"
     ]
    }
   ],
   "source": [
    "internet_df = pd.read_csv(\"data/internet_use.csv\")\n",
    "print(internet_df.head(6))"
   ]
  },
  {
   "cell_type": "markdown",
   "metadata": {},
   "source": [
    "7. Look at the shape of each DataFrame - how many rows? How many columns?"
   ]
  },
  {
   "cell_type": "code",
   "execution_count": 4,
   "metadata": {
    "scrolled": true
   },
   "outputs": [
    {
     "name": "stdout",
     "output_type": "stream",
     "text": [
      "GDP: (6608, 4)\n",
      "Internet: (4676, 4)\n"
     ]
    }
   ],
   "source": [
    "print(\"GDP:\", gdp_df.shape)\n",
    "print(\"Internet:\", internet_df.shape)"
   ]
  },
  {
   "cell_type": "markdown",
   "metadata": {},
   "source": [
    "ANS: GDP: 6608 rows and 4 columns, Internet: 4676 rows and 4 columns"
   ]
  },
  {
   "cell_type": "markdown",
   "metadata": {},
   "source": [
    "8. Take a look at the datatypes for the columns in each DataFrame."
   ]
  },
  {
   "cell_type": "code",
   "execution_count": 5,
   "metadata": {
    "scrolled": true
   },
   "outputs": [
    {
     "name": "stdout",
     "output_type": "stream",
     "text": [
      "Country or Area     object\n",
      "Year                object\n",
      "Value              float64\n",
      "Value Footnotes    float64\n",
      "dtype: object\n"
     ]
    }
   ],
   "source": [
    "print(gdp_df.dtypes)"
   ]
  },
  {
   "cell_type": "markdown",
   "metadata": {},
   "source": [
    "ANS: Country or Area: object, Year: object, Value: float64, Value Footnotes: float64"
   ]
  },
  {
   "cell_type": "markdown",
   "metadata": {},
   "source": [
    "9. Take a look at the last 10 rows of each DataFrame in turn."
   ]
  },
  {
   "cell_type": "code",
   "execution_count": 6,
   "metadata": {},
   "outputs": [
    {
     "name": "stdout",
     "output_type": "stream",
     "text": [
      "     Country or Area                                      Year        Value  \\\n",
      "6598        Zimbabwe                                      1997  3580.048793   \n",
      "6599        Zimbabwe                                      1996  3520.430146   \n",
      "6600        Zimbabwe                                      1995  3226.413930   \n",
      "6601        Zimbabwe                                      1994  3263.934978   \n",
      "6602        Zimbabwe                                      1993  3033.504852   \n",
      "6603        Zimbabwe                                      1992  3054.889178   \n",
      "6604        Zimbabwe                                      1991  3426.598094   \n",
      "6605        Zimbabwe                                      1990  3324.348171   \n",
      "6606   footnoteSeqID                                  Footnote          NaN   \n",
      "6607               2  Excludes South Sudan after July 9, 2011.          NaN   \n",
      "\n",
      "      Value Footnotes  \n",
      "6598              NaN  \n",
      "6599              NaN  \n",
      "6600              NaN  \n",
      "6601              NaN  \n",
      "6602              NaN  \n",
      "6603              NaN  \n",
      "6604              NaN  \n",
      "6605              NaN  \n",
      "6606              NaN  \n",
      "6607              NaN  \n",
      "     Country or Area                                               Year  \\\n",
      "4666             171                        Internet Dial-up customers.   \n",
      "4667             172  Population age 16+ using the Internet in the l...   \n",
      "4668             173  Population age 16+ using internet in the last ...   \n",
      "4669             174  U.S. Census Bureau, Table 2. Reported Internet...   \n",
      "4670             175             Includes individuals 3 years and older   \n",
      "4671             176                                   NTIA/CPS survey.   \n",
      "4672             177                     Pew Internet Project, Internet   \n",
      "4673             178  Estimated based on Survey's results. Populatio...   \n",
      "4674             179                     Preliminary. Country estimate.   \n",
      "4675             180  The methodology used to estimated the figure f...   \n",
      "\n",
      "                                     Value  \\\n",
      "4666                                   NaN   \n",
      "4667                                   NaN   \n",
      "4668                                   NaN   \n",
      "4669                                   NaN   \n",
      "4670                                   NaN   \n",
      "4671                                   NaN   \n",
      "4672   Broadband and cell phone statistics   \n",
      "4673                                   NaN   \n",
      "4674                                   NaN   \n",
      "4675                                   NaN   \n",
      "\n",
      "                                        Value Footnotes  \n",
      "4666                                                NaN  \n",
      "4667                                                NaN  \n",
      "4668                                                NaN  \n",
      "4669                                                NaN  \n",
      "4670                                                NaN  \n",
      "4671                                                NaN  \n",
      "4672  ” January 5 2010 http://www.pewinternet.org/~/...  \n",
      "4673                                                NaN  \n",
      "4674                                                NaN  \n",
      "4675                                                NaN  \n"
     ]
    }
   ],
   "source": [
    "print(gdp_df.tail(10))\n",
    "print(internet_df.tail(10))"
   ]
  },
  {
   "cell_type": "markdown",
   "metadata": {},
   "source": [
    "10. Drop the value footnotes column from both DataFrames. Check that this worked as expected."
   ]
  },
  {
   "cell_type": "code",
   "execution_count": 7,
   "metadata": {
    "scrolled": true
   },
   "outputs": [
    {
     "name": "stdout",
     "output_type": "stream",
     "text": [
      "  Country or Area  Year        Value\n",
      "0     Afghanistan  2018  2190.240321\n",
      "1     Afghanistan  2017  2202.570851\n",
      "2     Afghanistan  2016  2200.764487\n",
      "3     Afghanistan  2015  2212.750899\n",
      "4     Afghanistan  2014  2249.253738\n",
      "  Country or Area  Year             Value\n",
      "0     Afghanistan  2014              6.39\n",
      "1     Afghanistan  2013               5.9\n",
      "2     Afghanistan  2012  5.45454545454545\n",
      "3     Afghanistan  2011                 5\n",
      "4     Afghanistan  2010                 4\n"
     ]
    }
   ],
   "source": [
    "gdp_df.drop('Value Footnotes', inplace = True, axis = 1)\n",
    "print(gdp_df.head(5))\n",
    "internet_df.drop('Value Footnotes', inplace = True, axis = 1)\n",
    "print(internet_df.head(5))"
   ]
  },
  {
   "cell_type": "markdown",
   "metadata": {},
   "source": [
    "11. Change the columns for the GDP Per Capita DataFrame to ‘Country’, ‘Year’, and ‘GDP_Per_Capita’."
   ]
  },
  {
   "cell_type": "code",
   "execution_count": 8,
   "metadata": {},
   "outputs": [
    {
     "name": "stdout",
     "output_type": "stream",
     "text": [
      "            Country                                      Year  GDP_Per_Capita\n",
      "0       Afghanistan                                      2018     2190.240321\n",
      "1       Afghanistan                                      2017     2202.570851\n",
      "2       Afghanistan                                      2016     2200.764487\n",
      "3       Afghanistan                                      2015     2212.750899\n",
      "4       Afghanistan                                      2014     2249.253738\n",
      "...             ...                                       ...             ...\n",
      "6603       Zimbabwe                                      1992     3054.889178\n",
      "6604       Zimbabwe                                      1991     3426.598094\n",
      "6605       Zimbabwe                                      1990     3324.348171\n",
      "6606  footnoteSeqID                                  Footnote             NaN\n",
      "6607              2  Excludes South Sudan after July 9, 2011.             NaN\n",
      "\n",
      "[6608 rows x 3 columns]\n"
     ]
    }
   ],
   "source": [
    "gdp_df.columns = ['Country', 'Year', 'GDP_Per_Capita']\n",
    "print(gdp_df)"
   ]
  },
  {
   "cell_type": "markdown",
   "metadata": {},
   "source": [
    "12. Change the columns for the Internet Users DataFrame to ‘Country’, ‘Year’, and ‘Internet_Users_Pct’."
   ]
  },
  {
   "cell_type": "code",
   "execution_count": 9,
   "metadata": {},
   "outputs": [
    {
     "name": "stdout",
     "output_type": "stream",
     "text": [
      "          Country                                               Year  \\\n",
      "0     Afghanistan                                               2014   \n",
      "1     Afghanistan                                               2013   \n",
      "2     Afghanistan                                               2012   \n",
      "3     Afghanistan                                               2011   \n",
      "4     Afghanistan                                               2010   \n",
      "...           ...                                                ...   \n",
      "4671          176                                   NTIA/CPS survey.   \n",
      "4672          177                     Pew Internet Project, Internet   \n",
      "4673          178  Estimated based on Survey's results. Populatio...   \n",
      "4674          179                     Preliminary. Country estimate.   \n",
      "4675          180  The methodology used to estimated the figure f...   \n",
      "\n",
      "                        Internet_Users_Pct  \n",
      "0                                     6.39  \n",
      "1                                      5.9  \n",
      "2                         5.45454545454545  \n",
      "3                                        5  \n",
      "4                                        4  \n",
      "...                                    ...  \n",
      "4671                                   NaN  \n",
      "4672   Broadband and cell phone statistics  \n",
      "4673                                   NaN  \n",
      "4674                                   NaN  \n",
      "4675                                   NaN  \n",
      "\n",
      "[4676 rows x 3 columns]\n"
     ]
    }
   ],
   "source": [
    "internet_df.columns = ['Country', 'Year', 'Internet_Users_Pct']\n",
    "print(internet_df)"
   ]
  },
  {
   "cell_type": "markdown",
   "metadata": {},
   "source": [
    "13. Merge the two DataFrames to one. Merge all rows from each of the two DataFrames. Call the new DataFrame gdp_and_internet_use."
   ]
  },
  {
   "cell_type": "code",
   "execution_count": 37,
   "metadata": {
    "scrolled": true
   },
   "outputs": [],
   "source": [
    "gdp_and_internet_use = gdp_df.merge(internet_df, how='outer', on=['Country', 'Year'])"
   ]
  },
  {
   "cell_type": "markdown",
   "metadata": {},
   "source": [
    "14. Look at the first five rows of your new DataFrame to confirm it merged correctly."
   ]
  },
  {
   "cell_type": "code",
   "execution_count": 38,
   "metadata": {},
   "outputs": [
    {
     "name": "stdout",
     "output_type": "stream",
     "text": [
      "       Country  Year  GDP_Per_Capita Internet_Users_Pct\n",
      "0  Afghanistan  2018     2190.240321                NaN\n",
      "1  Afghanistan  2017     2202.570851                NaN\n",
      "2  Afghanistan  2016     2200.764487                NaN\n",
      "3  Afghanistan  2015     2212.750899                NaN\n",
      "4  Afghanistan  2014     2249.253738               6.39\n",
      "5  Afghanistan  2013     2264.317575                5.9\n",
      "6  Afghanistan  2012     2220.481526   5.45454545454545\n",
      "7  Afghanistan  2011     2037.608607                  5\n",
      "8  Afghanistan  2010     2093.743565                  4\n",
      "9  Afghanistan  2009     1881.777626               3.55\n",
      "       Country  Year  GDP_Per_Capita\n",
      "0  Afghanistan  2018     2190.240321\n",
      "1  Afghanistan  2017     2202.570851\n",
      "2  Afghanistan  2016     2200.764487\n",
      "3  Afghanistan  2015     2212.750899\n",
      "4  Afghanistan  2014     2249.253738\n",
      "5  Afghanistan  2013     2264.317575\n",
      "6  Afghanistan  2012     2220.481526\n",
      "7  Afghanistan  2011     2037.608607\n",
      "8  Afghanistan  2010     2093.743565\n",
      "9  Afghanistan  2009     1881.777626\n",
      "       Country  Year Internet_Users_Pct\n",
      "0  Afghanistan  2014               6.39\n",
      "1  Afghanistan  2013                5.9\n",
      "2  Afghanistan  2012   5.45454545454545\n",
      "3  Afghanistan  2011                  5\n",
      "4  Afghanistan  2010                  4\n",
      "5  Afghanistan  2009               3.55\n",
      "6  Afghanistan  2008               1.84\n",
      "7  Afghanistan  2007                1.9\n",
      "8  Afghanistan  2006   2.10712364546412\n",
      "9  Afghanistan  2005   1.22414808372471\n"
     ]
    }
   ],
   "source": [
    "print(gdp_and_internet_use.head(10))\n",
    "print(gdp_df.head(10))\n",
    "print(internet_df.head(10))"
   ]
  },
  {
   "cell_type": "markdown",
   "metadata": {},
   "source": [
    "15. Look at the last five rows to make sure the data is clean and as expected."
   ]
  },
  {
   "cell_type": "code",
   "execution_count": 12,
   "metadata": {},
   "outputs": [
    {
     "name": "stdout",
     "output_type": "stream",
     "text": [
      "     Country                                               Year  \\\n",
      "7836     171                        Internet Dial-up customers.   \n",
      "7837     172  Population age 16+ using the Internet in the l...   \n",
      "7838     173  Population age 16+ using internet in the last ...   \n",
      "7839     174  U.S. Census Bureau, Table 2. Reported Internet...   \n",
      "7840     175             Includes individuals 3 years and older   \n",
      "7841     176                                   NTIA/CPS survey.   \n",
      "7842     177                     Pew Internet Project, Internet   \n",
      "7843     178  Estimated based on Survey's results. Populatio...   \n",
      "7844     179                     Preliminary. Country estimate.   \n",
      "7845     180  The methodology used to estimated the figure f...   \n",
      "\n",
      "      GDP_Per_Capita                    Internet_Users_Pct  \n",
      "7836             NaN                                   NaN  \n",
      "7837             NaN                                   NaN  \n",
      "7838             NaN                                   NaN  \n",
      "7839             NaN                                   NaN  \n",
      "7840             NaN                                   NaN  \n",
      "7841             NaN                                   NaN  \n",
      "7842             NaN   Broadband and cell phone statistics  \n",
      "7843             NaN                                   NaN  \n",
      "7844             NaN                                   NaN  \n",
      "7845             NaN                                   NaN  \n",
      "            Country                                      Year  GDP_Per_Capita\n",
      "6598       Zimbabwe                                      1997     3580.048793\n",
      "6599       Zimbabwe                                      1996     3520.430146\n",
      "6600       Zimbabwe                                      1995     3226.413930\n",
      "6601       Zimbabwe                                      1994     3263.934978\n",
      "6602       Zimbabwe                                      1993     3033.504852\n",
      "6603       Zimbabwe                                      1992     3054.889178\n",
      "6604       Zimbabwe                                      1991     3426.598094\n",
      "6605       Zimbabwe                                      1990     3324.348171\n",
      "6606  footnoteSeqID                                  Footnote             NaN\n",
      "6607              2  Excludes South Sudan after July 9, 2011.             NaN\n",
      "     Country                                               Year  \\\n",
      "4666     171                        Internet Dial-up customers.   \n",
      "4667     172  Population age 16+ using the Internet in the l...   \n",
      "4668     173  Population age 16+ using internet in the last ...   \n",
      "4669     174  U.S. Census Bureau, Table 2. Reported Internet...   \n",
      "4670     175             Includes individuals 3 years and older   \n",
      "4671     176                                   NTIA/CPS survey.   \n",
      "4672     177                     Pew Internet Project, Internet   \n",
      "4673     178  Estimated based on Survey's results. Populatio...   \n",
      "4674     179                     Preliminary. Country estimate.   \n",
      "4675     180  The methodology used to estimated the figure f...   \n",
      "\n",
      "                        Internet_Users_Pct  \n",
      "4666                                   NaN  \n",
      "4667                                   NaN  \n",
      "4668                                   NaN  \n",
      "4669                                   NaN  \n",
      "4670                                   NaN  \n",
      "4671                                   NaN  \n",
      "4672   Broadband and cell phone statistics  \n",
      "4673                                   NaN  \n",
      "4674                                   NaN  \n",
      "4675                                   NaN  \n"
     ]
    }
   ],
   "source": [
    "print(gdp_and_internet_use.tail(10))\n",
    "print(gdp_df.tail(10))\n",
    "print(internet_df.tail(10))"
   ]
  },
  {
   "cell_type": "markdown",
   "metadata": {},
   "source": [
    "16. Subset the combined DataFrame to keep only the data for 2004, 2009, and 2014. Check that this happened correctly."
   ]
  },
  {
   "cell_type": "code",
   "execution_count": 64,
   "metadata": {
    "scrolled": true
   },
   "outputs": [],
   "source": [
    "gdp_and_internet_use = gdp_and_internet_use[(gdp_and_internet_use.Year == \"2004\") | (gdp_and_internet_use.Year == \"2009\") | (gdp_and_internet_use.Year == \"2014\")]"
   ]
  },
  {
   "cell_type": "markdown",
   "metadata": {},
   "source": [
    "17. Create three new DataFrames, one for 2004, one for 2009, and one for 2014. Give them meaningful names that aren't too long."
   ]
  },
  {
   "cell_type": "code",
   "execution_count": 14,
   "metadata": {},
   "outputs": [
    {
     "name": "stdout",
     "output_type": "stream",
     "text": [
      "                    Country  Year  GDP_Per_Capita Internet_Users_Pct\n",
      "14              Afghanistan  2004     1284.127338  0.105809030021958\n",
      "31                  Albania  2004     7738.542836   2.42038779776014\n",
      "60                  Algeria  2004     9898.310490   4.63447508776537\n",
      "89                   Angola  2004     5568.959139  0.464814617985909\n",
      "118     Antigua and Barbuda  2004    18742.463741   24.2665437161785\n",
      "...                     ...   ...             ...                ...\n",
      "7532     T.F.Y.R. Macedonia  2004             NaN              24.44\n",
      "7590              Venezuela  2004             NaN   8.40446959241215\n",
      "7614               Viet Nam  2004             NaN   7.64240852842363\n",
      "7634  Virgin Islands (U.S.)  2004             NaN   27.3770087880198\n",
      "7656                  Yemen  2004             NaN  0.881222988679516\n",
      "\n",
      "[276 rows x 4 columns]\n",
      "                    Country  Year  GDP_Per_Capita Internet_Users_Pct\n",
      "9               Afghanistan  2009     1881.777626               3.55\n",
      "26                  Albania  2009    10528.778102               41.2\n",
      "55                  Algeria  2009    10610.711405              11.23\n",
      "84                   Angola  2009     7610.310423                  6\n",
      "113     Antigua and Barbuda  2009    19989.092913                 42\n",
      "...                     ...   ...             ...                ...\n",
      "7527     T.F.Y.R. Macedonia  2009             NaN              51.77\n",
      "7585              Venezuela  2009             NaN               32.7\n",
      "7609               Viet Nam  2009             NaN              26.55\n",
      "7629  Virgin Islands (U.S.)  2009             NaN   27.3965096846662\n",
      "7651                  Yemen  2009             NaN               9.96\n",
      "\n",
      "[277 rows x 4 columns]\n",
      "                    Country  Year  GDP_Per_Capita Internet_Users_Pct\n",
      "4               Afghanistan  2014     2249.253738               6.39\n",
      "21                  Albania  2014    11828.232264               60.1\n",
      "50                  Algeria  2014    11329.428688              18.09\n",
      "79                   Angola  2014     8239.832077              21.26\n",
      "108     Antigua and Barbuda  2014    18104.241470                 64\n",
      "...                     ...   ...             ...                ...\n",
      "7522     T.F.Y.R. Macedonia  2014             NaN              68.06\n",
      "7580              Venezuela  2014             NaN                 57\n",
      "7604               Viet Nam  2014             NaN              48.31\n",
      "7624  Virgin Islands (U.S.)  2014             NaN              50.07\n",
      "7646                  Yemen  2014             NaN              22.55\n",
      "\n",
      "[277 rows x 4 columns]\n"
     ]
    }
   ],
   "source": [
    "df_2004 = gdp_and_internet_use[gdp_and_internet_use.Year == \"2004\"]\n",
    "df_2009 = gdp_and_internet_use[gdp_and_internet_use.Year == \"2009\"]\n",
    "df_2014 = gdp_and_internet_use[gdp_and_internet_use.Year == \"2014\"]\n",
    "print(df_2004)\n",
    "print(df_2009)\n",
    "print(df_2014)"
   ]
  },
  {
   "cell_type": "markdown",
   "metadata": {},
   "source": [
    "18. Which country had the highest percentage of internet users in 2014? What was the percentage? (Try typing the first 3 letters of your DataFrame name and hitting the tab key for auto-complete options)."
   ]
  },
  {
   "cell_type": "code",
   "execution_count": 29,
   "metadata": {
    "scrolled": true
   },
   "outputs": [
    {
     "data": {
      "text/html": [
       "<div>\n",
       "<style scoped>\n",
       "    .dataframe tbody tr th:only-of-type {\n",
       "        vertical-align: middle;\n",
       "    }\n",
       "\n",
       "    .dataframe tbody tr th {\n",
       "        vertical-align: top;\n",
       "    }\n",
       "\n",
       "    .dataframe thead th {\n",
       "        text-align: right;\n",
       "    }\n",
       "</style>\n",
       "<table border=\"1\" class=\"dataframe\">\n",
       "  <thead>\n",
       "    <tr style=\"text-align: right;\">\n",
       "      <th></th>\n",
       "      <th>Country</th>\n",
       "      <th>Year</th>\n",
       "      <th>GDP_Per_Capita</th>\n",
       "      <th>Internet_Users_Pct</th>\n",
       "    </tr>\n",
       "  </thead>\n",
       "  <tbody>\n",
       "    <tr>\n",
       "      <th>2507</th>\n",
       "      <td>Iceland</td>\n",
       "      <td>2014</td>\n",
       "      <td>49911.069825</td>\n",
       "      <td>98.16</td>\n",
       "    </tr>\n",
       "    <tr>\n",
       "      <th>6651</th>\n",
       "      <td>Bermuda</td>\n",
       "      <td>2014</td>\n",
       "      <td>NaN</td>\n",
       "      <td>96.80</td>\n",
       "    </tr>\n",
       "    <tr>\n",
       "      <th>4461</th>\n",
       "      <td>Norway</td>\n",
       "      <td>2014</td>\n",
       "      <td>61308.763730</td>\n",
       "      <td>96.30</td>\n",
       "    </tr>\n",
       "    <tr>\n",
       "      <th>1374</th>\n",
       "      <td>Denmark</td>\n",
       "      <td>2014</td>\n",
       "      <td>52172.606425</td>\n",
       "      <td>95.99</td>\n",
       "    </tr>\n",
       "    <tr>\n",
       "      <th>6611</th>\n",
       "      <td>Andorra</td>\n",
       "      <td>2014</td>\n",
       "      <td>NaN</td>\n",
       "      <td>95.90</td>\n",
       "    </tr>\n",
       "    <tr>\n",
       "      <th>...</th>\n",
       "      <td>...</td>\n",
       "      <td>...</td>\n",
       "      <td>...</td>\n",
       "      <td>...</td>\n",
       "    </tr>\n",
       "    <tr>\n",
       "      <th>6179</th>\n",
       "      <td>Tuvalu</td>\n",
       "      <td>2014</td>\n",
       "      <td>3455.741510</td>\n",
       "      <td>NaN</td>\n",
       "    </tr>\n",
       "    <tr>\n",
       "      <th>6353</th>\n",
       "      <td>Upper middle income</td>\n",
       "      <td>2014</td>\n",
       "      <td>14271.692393</td>\n",
       "      <td>NaN</td>\n",
       "    </tr>\n",
       "    <tr>\n",
       "      <th>6469</th>\n",
       "      <td>Vietnam</td>\n",
       "      <td>2014</td>\n",
       "      <td>6098.489609</td>\n",
       "      <td>NaN</td>\n",
       "    </tr>\n",
       "    <tr>\n",
       "      <th>6498</th>\n",
       "      <td>West Bank and Gaza</td>\n",
       "      <td>2014</td>\n",
       "      <td>5499.415939</td>\n",
       "      <td>NaN</td>\n",
       "    </tr>\n",
       "    <tr>\n",
       "      <th>6523</th>\n",
       "      <td>World</td>\n",
       "      <td>2014</td>\n",
       "      <td>15181.246955</td>\n",
       "      <td>NaN</td>\n",
       "    </tr>\n",
       "  </tbody>\n",
       "</table>\n",
       "<p>277 rows × 4 columns</p>\n",
       "</div>"
      ],
      "text/plain": [
       "                  Country  Year  GDP_Per_Capita  Internet_Users_Pct\n",
       "2507              Iceland  2014    49911.069825               98.16\n",
       "6651              Bermuda  2014             NaN               96.80\n",
       "4461               Norway  2014    61308.763730               96.30\n",
       "1374              Denmark  2014    52172.606425               95.99\n",
       "6611              Andorra  2014             NaN               95.90\n",
       "...                   ...   ...             ...                 ...\n",
       "6179               Tuvalu  2014     3455.741510                 NaN\n",
       "6353  Upper middle income  2014    14271.692393                 NaN\n",
       "6469              Vietnam  2014     6098.489609                 NaN\n",
       "6498   West Bank and Gaza  2014     5499.415939                 NaN\n",
       "6523                World  2014    15181.246955                 NaN\n",
       "\n",
       "[277 rows x 4 columns]"
      ]
     },
     "execution_count": 29,
     "metadata": {},
     "output_type": "execute_result"
    }
   ],
   "source": [
    "df_2014 = df_2014.astype({\"Internet_Users_Pct\": float})\n",
    "df_2014.sort_values(\"Internet_Users_Pct\", ascending = False)"
   ]
  },
  {
   "cell_type": "markdown",
   "metadata": {},
   "source": [
    "ANS: Iceland with 98.16%"
   ]
  },
  {
   "cell_type": "markdown",
   "metadata": {},
   "source": [
    "19. Which country had the lowest percentage of internet users in 2014? What was the percentage?"
   ]
  },
  {
   "cell_type": "code",
   "execution_count": 31,
   "metadata": {
    "scrolled": true
   },
   "outputs": [
    {
     "data": {
      "text/html": [
       "<div>\n",
       "<style scoped>\n",
       "    .dataframe tbody tr th:only-of-type {\n",
       "        vertical-align: middle;\n",
       "    }\n",
       "\n",
       "    .dataframe tbody tr th {\n",
       "        vertical-align: top;\n",
       "    }\n",
       "\n",
       "    .dataframe thead th {\n",
       "        text-align: right;\n",
       "    }\n",
       "</style>\n",
       "<table border=\"1\" class=\"dataframe\">\n",
       "  <thead>\n",
       "    <tr style=\"text-align: right;\">\n",
       "      <th></th>\n",
       "      <th>Country</th>\n",
       "      <th>Year</th>\n",
       "      <th>GDP_Per_Capita</th>\n",
       "      <th>Internet_Users_Pct</th>\n",
       "    </tr>\n",
       "  </thead>\n",
       "  <tbody>\n",
       "    <tr>\n",
       "      <th>6840</th>\n",
       "      <td>Dem. People's Rep. of Korea</td>\n",
       "      <td>2014</td>\n",
       "      <td>NaN</td>\n",
       "      <td>0.00</td>\n",
       "    </tr>\n",
       "    <tr>\n",
       "      <th>6898</th>\n",
       "      <td>Eritrea</td>\n",
       "      <td>2014</td>\n",
       "      <td>NaN</td>\n",
       "      <td>0.99</td>\n",
       "    </tr>\n",
       "    <tr>\n",
       "      <th>5978</th>\n",
       "      <td>Timor-Leste</td>\n",
       "      <td>2014</td>\n",
       "      <td>3264.739189</td>\n",
       "      <td>1.14</td>\n",
       "    </tr>\n",
       "    <tr>\n",
       "      <th>770</th>\n",
       "      <td>Burundi</td>\n",
       "      <td>2014</td>\n",
       "      <td>886.235777</td>\n",
       "      <td>1.38</td>\n",
       "    </tr>\n",
       "    <tr>\n",
       "      <th>7435</th>\n",
       "      <td>Somalia</td>\n",
       "      <td>2014</td>\n",
       "      <td>NaN</td>\n",
       "      <td>1.63</td>\n",
       "    </tr>\n",
       "    <tr>\n",
       "      <th>...</th>\n",
       "      <td>...</td>\n",
       "      <td>...</td>\n",
       "      <td>...</td>\n",
       "      <td>...</td>\n",
       "    </tr>\n",
       "    <tr>\n",
       "      <th>6179</th>\n",
       "      <td>Tuvalu</td>\n",
       "      <td>2014</td>\n",
       "      <td>3455.741510</td>\n",
       "      <td>NaN</td>\n",
       "    </tr>\n",
       "    <tr>\n",
       "      <th>6353</th>\n",
       "      <td>Upper middle income</td>\n",
       "      <td>2014</td>\n",
       "      <td>14271.692393</td>\n",
       "      <td>NaN</td>\n",
       "    </tr>\n",
       "    <tr>\n",
       "      <th>6469</th>\n",
       "      <td>Vietnam</td>\n",
       "      <td>2014</td>\n",
       "      <td>6098.489609</td>\n",
       "      <td>NaN</td>\n",
       "    </tr>\n",
       "    <tr>\n",
       "      <th>6498</th>\n",
       "      <td>West Bank and Gaza</td>\n",
       "      <td>2014</td>\n",
       "      <td>5499.415939</td>\n",
       "      <td>NaN</td>\n",
       "    </tr>\n",
       "    <tr>\n",
       "      <th>6523</th>\n",
       "      <td>World</td>\n",
       "      <td>2014</td>\n",
       "      <td>15181.246955</td>\n",
       "      <td>NaN</td>\n",
       "    </tr>\n",
       "  </tbody>\n",
       "</table>\n",
       "<p>277 rows × 4 columns</p>\n",
       "</div>"
      ],
      "text/plain": [
       "                          Country  Year  GDP_Per_Capita  Internet_Users_Pct\n",
       "6840  Dem. People's Rep. of Korea  2014             NaN                0.00\n",
       "6898                      Eritrea  2014             NaN                0.99\n",
       "5978                  Timor-Leste  2014     3264.739189                1.14\n",
       "770                       Burundi  2014      886.235777                1.38\n",
       "7435                      Somalia  2014             NaN                1.63\n",
       "...                           ...   ...             ...                 ...\n",
       "6179                       Tuvalu  2014     3455.741510                 NaN\n",
       "6353          Upper middle income  2014    14271.692393                 NaN\n",
       "6469                      Vietnam  2014     6098.489609                 NaN\n",
       "6498           West Bank and Gaza  2014     5499.415939                 NaN\n",
       "6523                        World  2014    15181.246955                 NaN\n",
       "\n",
       "[277 rows x 4 columns]"
      ]
     },
     "execution_count": 31,
     "metadata": {},
     "output_type": "execute_result"
    }
   ],
   "source": [
    "df_2014.sort_values(\"Internet_Users_Pct\")"
   ]
  },
  {
   "cell_type": "markdown",
   "metadata": {},
   "source": [
    "Democratic People's Republic of Korea with 0%"
   ]
  },
  {
   "cell_type": "markdown",
   "metadata": {},
   "source": [
    "20. Repeat for 2004 and 2009."
   ]
  },
  {
   "cell_type": "code",
   "execution_count": 30,
   "metadata": {
    "scrolled": true
   },
   "outputs": [
    {
     "data": {
      "text/html": [
       "<div>\n",
       "<style scoped>\n",
       "    .dataframe tbody tr th:only-of-type {\n",
       "        vertical-align: middle;\n",
       "    }\n",
       "\n",
       "    .dataframe tbody tr th {\n",
       "        vertical-align: top;\n",
       "    }\n",
       "\n",
       "    .dataframe thead th {\n",
       "        text-align: right;\n",
       "    }\n",
       "</style>\n",
       "<table border=\"1\" class=\"dataframe\">\n",
       "  <thead>\n",
       "    <tr style=\"text-align: right;\">\n",
       "      <th></th>\n",
       "      <th>Country</th>\n",
       "      <th>Year</th>\n",
       "      <th>GDP_Per_Capita</th>\n",
       "      <th>Internet_Users_Pct</th>\n",
       "    </tr>\n",
       "  </thead>\n",
       "  <tbody>\n",
       "    <tr>\n",
       "      <th>5785</th>\n",
       "      <td>Sweden</td>\n",
       "      <td>2004</td>\n",
       "      <td>45029.814344</td>\n",
       "      <td>83.89</td>\n",
       "    </tr>\n",
       "    <tr>\n",
       "      <th>2517</th>\n",
       "      <td>Iceland</td>\n",
       "      <td>2004</td>\n",
       "      <td>45380.965464</td>\n",
       "      <td>83.88</td>\n",
       "    </tr>\n",
       "    <tr>\n",
       "      <th>1384</th>\n",
       "      <td>Denmark</td>\n",
       "      <td>2004</td>\n",
       "      <td>50566.988088</td>\n",
       "      <td>80.93</td>\n",
       "    </tr>\n",
       "    <tr>\n",
       "      <th>4471</th>\n",
       "      <td>Norway</td>\n",
       "      <td>2004</td>\n",
       "      <td>59647.501415</td>\n",
       "      <td>77.69</td>\n",
       "    </tr>\n",
       "    <tr>\n",
       "      <th>7161</th>\n",
       "      <td>Korea (Rep. of)</td>\n",
       "      <td>2004</td>\n",
       "      <td>NaN</td>\n",
       "      <td>72.70</td>\n",
       "    </tr>\n",
       "    <tr>\n",
       "      <th>...</th>\n",
       "      <td>...</td>\n",
       "      <td>...</td>\n",
       "      <td>...</td>\n",
       "      <td>...</td>\n",
       "    </tr>\n",
       "    <tr>\n",
       "      <th>6189</th>\n",
       "      <td>Tuvalu</td>\n",
       "      <td>2004</td>\n",
       "      <td>3341.738017</td>\n",
       "      <td>NaN</td>\n",
       "    </tr>\n",
       "    <tr>\n",
       "      <th>6363</th>\n",
       "      <td>Upper middle income</td>\n",
       "      <td>2004</td>\n",
       "      <td>8561.878030</td>\n",
       "      <td>NaN</td>\n",
       "    </tr>\n",
       "    <tr>\n",
       "      <th>6479</th>\n",
       "      <td>Vietnam</td>\n",
       "      <td>2004</td>\n",
       "      <td>3689.732423</td>\n",
       "      <td>NaN</td>\n",
       "    </tr>\n",
       "    <tr>\n",
       "      <th>6508</th>\n",
       "      <td>West Bank and Gaza</td>\n",
       "      <td>2004</td>\n",
       "      <td>4113.246936</td>\n",
       "      <td>NaN</td>\n",
       "    </tr>\n",
       "    <tr>\n",
       "      <th>6533</th>\n",
       "      <td>World</td>\n",
       "      <td>2004</td>\n",
       "      <td>12070.457345</td>\n",
       "      <td>NaN</td>\n",
       "    </tr>\n",
       "  </tbody>\n",
       "</table>\n",
       "<p>276 rows × 4 columns</p>\n",
       "</div>"
      ],
      "text/plain": [
       "                  Country  Year  GDP_Per_Capita  Internet_Users_Pct\n",
       "5785               Sweden  2004    45029.814344               83.89\n",
       "2517              Iceland  2004    45380.965464               83.88\n",
       "1384              Denmark  2004    50566.988088               80.93\n",
       "4471               Norway  2004    59647.501415               77.69\n",
       "7161      Korea (Rep. of)  2004             NaN               72.70\n",
       "...                   ...   ...             ...                 ...\n",
       "6189               Tuvalu  2004     3341.738017                 NaN\n",
       "6363  Upper middle income  2004     8561.878030                 NaN\n",
       "6479              Vietnam  2004     3689.732423                 NaN\n",
       "6508   West Bank and Gaza  2004     4113.246936                 NaN\n",
       "6533                World  2004    12070.457345                 NaN\n",
       "\n",
       "[276 rows x 4 columns]"
      ]
     },
     "execution_count": 30,
     "metadata": {},
     "output_type": "execute_result"
    }
   ],
   "source": [
    "df_2004 = df_2004.astype({\"Internet_Users_Pct\": float})\n",
    "df_2004.sort_values(\"Internet_Users_Pct\", ascending = False)"
   ]
  },
  {
   "cell_type": "code",
   "execution_count": 32,
   "metadata": {
    "scrolled": true
   },
   "outputs": [
    {
     "data": {
      "text/html": [
       "<div>\n",
       "<style scoped>\n",
       "    .dataframe tbody tr th:only-of-type {\n",
       "        vertical-align: middle;\n",
       "    }\n",
       "\n",
       "    .dataframe tbody tr th {\n",
       "        vertical-align: top;\n",
       "    }\n",
       "\n",
       "    .dataframe thead th {\n",
       "        text-align: right;\n",
       "    }\n",
       "</style>\n",
       "<table border=\"1\" class=\"dataframe\">\n",
       "  <thead>\n",
       "    <tr style=\"text-align: right;\">\n",
       "      <th></th>\n",
       "      <th>Country</th>\n",
       "      <th>Year</th>\n",
       "      <th>GDP_Per_Capita</th>\n",
       "      <th>Internet_Users_Pct</th>\n",
       "    </tr>\n",
       "  </thead>\n",
       "  <tbody>\n",
       "    <tr>\n",
       "      <th>6849</th>\n",
       "      <td>Dem. People's Rep. of Korea</td>\n",
       "      <td>2004</td>\n",
       "      <td>NaN</td>\n",
       "      <td>0.000000</td>\n",
       "    </tr>\n",
       "    <tr>\n",
       "      <th>4166</th>\n",
       "      <td>Myanmar</td>\n",
       "      <td>2004</td>\n",
       "      <td>1696.881760</td>\n",
       "      <td>0.024337</td>\n",
       "    </tr>\n",
       "    <tr>\n",
       "      <th>3395</th>\n",
       "      <td>Liberia</td>\n",
       "      <td>2004</td>\n",
       "      <td>1181.546158</td>\n",
       "      <td>0.031011</td>\n",
       "    </tr>\n",
       "    <tr>\n",
       "      <th>5843</th>\n",
       "      <td>Tajikistan</td>\n",
       "      <td>2004</td>\n",
       "      <td>1737.743630</td>\n",
       "      <td>0.077480</td>\n",
       "    </tr>\n",
       "    <tr>\n",
       "      <th>14</th>\n",
       "      <td>Afghanistan</td>\n",
       "      <td>2004</td>\n",
       "      <td>1284.127338</td>\n",
       "      <td>0.105809</td>\n",
       "    </tr>\n",
       "    <tr>\n",
       "      <th>...</th>\n",
       "      <td>...</td>\n",
       "      <td>...</td>\n",
       "      <td>...</td>\n",
       "      <td>...</td>\n",
       "    </tr>\n",
       "    <tr>\n",
       "      <th>6189</th>\n",
       "      <td>Tuvalu</td>\n",
       "      <td>2004</td>\n",
       "      <td>3341.738017</td>\n",
       "      <td>NaN</td>\n",
       "    </tr>\n",
       "    <tr>\n",
       "      <th>6363</th>\n",
       "      <td>Upper middle income</td>\n",
       "      <td>2004</td>\n",
       "      <td>8561.878030</td>\n",
       "      <td>NaN</td>\n",
       "    </tr>\n",
       "    <tr>\n",
       "      <th>6479</th>\n",
       "      <td>Vietnam</td>\n",
       "      <td>2004</td>\n",
       "      <td>3689.732423</td>\n",
       "      <td>NaN</td>\n",
       "    </tr>\n",
       "    <tr>\n",
       "      <th>6508</th>\n",
       "      <td>West Bank and Gaza</td>\n",
       "      <td>2004</td>\n",
       "      <td>4113.246936</td>\n",
       "      <td>NaN</td>\n",
       "    </tr>\n",
       "    <tr>\n",
       "      <th>6533</th>\n",
       "      <td>World</td>\n",
       "      <td>2004</td>\n",
       "      <td>12070.457345</td>\n",
       "      <td>NaN</td>\n",
       "    </tr>\n",
       "  </tbody>\n",
       "</table>\n",
       "<p>276 rows × 4 columns</p>\n",
       "</div>"
      ],
      "text/plain": [
       "                          Country  Year  GDP_Per_Capita  Internet_Users_Pct\n",
       "6849  Dem. People's Rep. of Korea  2004             NaN            0.000000\n",
       "4166                      Myanmar  2004     1696.881760            0.024337\n",
       "3395                      Liberia  2004     1181.546158            0.031011\n",
       "5843                   Tajikistan  2004     1737.743630            0.077480\n",
       "14                    Afghanistan  2004     1284.127338            0.105809\n",
       "...                           ...   ...             ...                 ...\n",
       "6189                       Tuvalu  2004     3341.738017                 NaN\n",
       "6363          Upper middle income  2004     8561.878030                 NaN\n",
       "6479                      Vietnam  2004     3689.732423                 NaN\n",
       "6508           West Bank and Gaza  2004     4113.246936                 NaN\n",
       "6533                        World  2004    12070.457345                 NaN\n",
       "\n",
       "[276 rows x 4 columns]"
      ]
     },
     "execution_count": 32,
     "metadata": {},
     "output_type": "execute_result"
    }
   ],
   "source": [
    "df_2004.sort_values(\"Internet_Users_Pct\")"
   ]
  },
  {
   "cell_type": "code",
   "execution_count": 33,
   "metadata": {
    "scrolled": true
   },
   "outputs": [
    {
     "data": {
      "text/html": [
       "<div>\n",
       "<style scoped>\n",
       "    .dataframe tbody tr th:only-of-type {\n",
       "        vertical-align: middle;\n",
       "    }\n",
       "\n",
       "    .dataframe tbody tr th {\n",
       "        vertical-align: top;\n",
       "    }\n",
       "\n",
       "    .dataframe thead th {\n",
       "        text-align: right;\n",
       "    }\n",
       "</style>\n",
       "<table border=\"1\" class=\"dataframe\">\n",
       "  <thead>\n",
       "    <tr style=\"text-align: right;\">\n",
       "      <th></th>\n",
       "      <th>Country</th>\n",
       "      <th>Year</th>\n",
       "      <th>GDP_Per_Capita</th>\n",
       "      <th>Internet_Users_Pct</th>\n",
       "    </tr>\n",
       "  </thead>\n",
       "  <tbody>\n",
       "    <tr>\n",
       "      <th>2512</th>\n",
       "      <td>Iceland</td>\n",
       "      <td>2009</td>\n",
       "      <td>48428.312438</td>\n",
       "      <td>93.00</td>\n",
       "    </tr>\n",
       "    <tr>\n",
       "      <th>4466</th>\n",
       "      <td>Norway</td>\n",
       "      <td>2009</td>\n",
       "      <td>60620.334503</td>\n",
       "      <td>92.08</td>\n",
       "    </tr>\n",
       "    <tr>\n",
       "      <th>5780</th>\n",
       "      <td>Sweden</td>\n",
       "      <td>2009</td>\n",
       "      <td>46185.526525</td>\n",
       "      <td>91.00</td>\n",
       "    </tr>\n",
       "    <tr>\n",
       "      <th>4263</th>\n",
       "      <td>Netherlands</td>\n",
       "      <td>2009</td>\n",
       "      <td>51850.500537</td>\n",
       "      <td>89.63</td>\n",
       "    </tr>\n",
       "    <tr>\n",
       "      <th>3540</th>\n",
       "      <td>Luxembourg</td>\n",
       "      <td>2009</td>\n",
       "      <td>105077.951508</td>\n",
       "      <td>87.31</td>\n",
       "    </tr>\n",
       "    <tr>\n",
       "      <th>...</th>\n",
       "      <td>...</td>\n",
       "      <td>...</td>\n",
       "      <td>...</td>\n",
       "      <td>...</td>\n",
       "    </tr>\n",
       "    <tr>\n",
       "      <th>5954</th>\n",
       "      <td>The Gambia</td>\n",
       "      <td>2009</td>\n",
       "      <td>2283.183556</td>\n",
       "      <td>NaN</td>\n",
       "    </tr>\n",
       "    <tr>\n",
       "      <th>6358</th>\n",
       "      <td>Upper middle income</td>\n",
       "      <td>2009</td>\n",
       "      <td>11209.044717</td>\n",
       "      <td>NaN</td>\n",
       "    </tr>\n",
       "    <tr>\n",
       "      <th>6474</th>\n",
       "      <td>Vietnam</td>\n",
       "      <td>2009</td>\n",
       "      <td>4830.304958</td>\n",
       "      <td>NaN</td>\n",
       "    </tr>\n",
       "    <tr>\n",
       "      <th>6503</th>\n",
       "      <td>West Bank and Gaza</td>\n",
       "      <td>2009</td>\n",
       "      <td>4721.086034</td>\n",
       "      <td>NaN</td>\n",
       "    </tr>\n",
       "    <tr>\n",
       "      <th>6528</th>\n",
       "      <td>World</td>\n",
       "      <td>2009</td>\n",
       "      <td>13389.627693</td>\n",
       "      <td>NaN</td>\n",
       "    </tr>\n",
       "  </tbody>\n",
       "</table>\n",
       "<p>277 rows × 4 columns</p>\n",
       "</div>"
      ],
      "text/plain": [
       "                  Country  Year  GDP_Per_Capita  Internet_Users_Pct\n",
       "2512              Iceland  2009    48428.312438               93.00\n",
       "4466               Norway  2009    60620.334503               92.08\n",
       "5780               Sweden  2009    46185.526525               91.00\n",
       "4263          Netherlands  2009    51850.500537               89.63\n",
       "3540           Luxembourg  2009   105077.951508               87.31\n",
       "...                   ...   ...             ...                 ...\n",
       "5954           The Gambia  2009     2283.183556                 NaN\n",
       "6358  Upper middle income  2009    11209.044717                 NaN\n",
       "6474              Vietnam  2009     4830.304958                 NaN\n",
       "6503   West Bank and Gaza  2009     4721.086034                 NaN\n",
       "6528                World  2009    13389.627693                 NaN\n",
       "\n",
       "[277 rows x 4 columns]"
      ]
     },
     "execution_count": 33,
     "metadata": {},
     "output_type": "execute_result"
    }
   ],
   "source": [
    "df_2009 = df_2009.astype({\"Internet_Users_Pct\": float})\n",
    "df_2009.sort_values(\"Internet_Users_Pct\", ascending = False)"
   ]
  },
  {
   "cell_type": "code",
   "execution_count": 34,
   "metadata": {
    "scrolled": true
   },
   "outputs": [
    {
     "data": {
      "text/html": [
       "<div>\n",
       "<style scoped>\n",
       "    .dataframe tbody tr th:only-of-type {\n",
       "        vertical-align: middle;\n",
       "    }\n",
       "\n",
       "    .dataframe tbody tr th {\n",
       "        vertical-align: top;\n",
       "    }\n",
       "\n",
       "    .dataframe thead th {\n",
       "        text-align: right;\n",
       "    }\n",
       "</style>\n",
       "<table border=\"1\" class=\"dataframe\">\n",
       "  <thead>\n",
       "    <tr style=\"text-align: right;\">\n",
       "      <th></th>\n",
       "      <th>Country</th>\n",
       "      <th>Year</th>\n",
       "      <th>GDP_Per_Capita</th>\n",
       "      <th>Internet_Users_Pct</th>\n",
       "    </tr>\n",
       "  </thead>\n",
       "  <tbody>\n",
       "    <tr>\n",
       "      <th>6844</th>\n",
       "      <td>Dem. People's Rep. of Korea</td>\n",
       "      <td>2009</td>\n",
       "      <td>NaN</td>\n",
       "      <td>0.000000</td>\n",
       "    </tr>\n",
       "    <tr>\n",
       "      <th>5983</th>\n",
       "      <td>Timor-Leste</td>\n",
       "      <td>2009</td>\n",
       "      <td>2724.834868</td>\n",
       "      <td>0.185252</td>\n",
       "    </tr>\n",
       "    <tr>\n",
       "      <th>4161</th>\n",
       "      <td>Myanmar</td>\n",
       "      <td>2009</td>\n",
       "      <td>2874.780227</td>\n",
       "      <td>0.220000</td>\n",
       "    </tr>\n",
       "    <tr>\n",
       "      <th>5225</th>\n",
       "      <td>Sierra Leone</td>\n",
       "      <td>2009</td>\n",
       "      <td>1372.392285</td>\n",
       "      <td>0.260000</td>\n",
       "    </tr>\n",
       "    <tr>\n",
       "      <th>862</th>\n",
       "      <td>Cambodia</td>\n",
       "      <td>2009</td>\n",
       "      <td>2603.583778</td>\n",
       "      <td>0.530000</td>\n",
       "    </tr>\n",
       "    <tr>\n",
       "      <th>...</th>\n",
       "      <td>...</td>\n",
       "      <td>...</td>\n",
       "      <td>...</td>\n",
       "      <td>...</td>\n",
       "    </tr>\n",
       "    <tr>\n",
       "      <th>5954</th>\n",
       "      <td>The Gambia</td>\n",
       "      <td>2009</td>\n",
       "      <td>2283.183556</td>\n",
       "      <td>NaN</td>\n",
       "    </tr>\n",
       "    <tr>\n",
       "      <th>6358</th>\n",
       "      <td>Upper middle income</td>\n",
       "      <td>2009</td>\n",
       "      <td>11209.044717</td>\n",
       "      <td>NaN</td>\n",
       "    </tr>\n",
       "    <tr>\n",
       "      <th>6474</th>\n",
       "      <td>Vietnam</td>\n",
       "      <td>2009</td>\n",
       "      <td>4830.304958</td>\n",
       "      <td>NaN</td>\n",
       "    </tr>\n",
       "    <tr>\n",
       "      <th>6503</th>\n",
       "      <td>West Bank and Gaza</td>\n",
       "      <td>2009</td>\n",
       "      <td>4721.086034</td>\n",
       "      <td>NaN</td>\n",
       "    </tr>\n",
       "    <tr>\n",
       "      <th>6528</th>\n",
       "      <td>World</td>\n",
       "      <td>2009</td>\n",
       "      <td>13389.627693</td>\n",
       "      <td>NaN</td>\n",
       "    </tr>\n",
       "  </tbody>\n",
       "</table>\n",
       "<p>277 rows × 4 columns</p>\n",
       "</div>"
      ],
      "text/plain": [
       "                          Country  Year  GDP_Per_Capita  Internet_Users_Pct\n",
       "6844  Dem. People's Rep. of Korea  2009             NaN            0.000000\n",
       "5983                  Timor-Leste  2009     2724.834868            0.185252\n",
       "4161                      Myanmar  2009     2874.780227            0.220000\n",
       "5225                 Sierra Leone  2009     1372.392285            0.260000\n",
       "862                      Cambodia  2009     2603.583778            0.530000\n",
       "...                           ...   ...             ...                 ...\n",
       "5954                   The Gambia  2009     2283.183556                 NaN\n",
       "6358          Upper middle income  2009    11209.044717                 NaN\n",
       "6474                      Vietnam  2009     4830.304958                 NaN\n",
       "6503           West Bank and Gaza  2009     4721.086034                 NaN\n",
       "6528                        World  2009    13389.627693                 NaN\n",
       "\n",
       "[277 rows x 4 columns]"
      ]
     },
     "execution_count": 34,
     "metadata": {},
     "output_type": "execute_result"
    }
   ],
   "source": [
    "df_2009.sort_values(\"Internet_Users_Pct\")"
   ]
  },
  {
   "cell_type": "markdown",
   "metadata": {},
   "source": [
    "21. Which country had the highest gdp per capita in 2014? What was the gdp per capita?"
   ]
  },
  {
   "cell_type": "code",
   "execution_count": 35,
   "metadata": {
    "scrolled": true
   },
   "outputs": [
    {
     "data": {
      "text/html": [
       "<div>\n",
       "<style scoped>\n",
       "    .dataframe tbody tr th:only-of-type {\n",
       "        vertical-align: middle;\n",
       "    }\n",
       "\n",
       "    .dataframe tbody tr th {\n",
       "        vertical-align: top;\n",
       "    }\n",
       "\n",
       "    .dataframe thead th {\n",
       "        text-align: right;\n",
       "    }\n",
       "</style>\n",
       "<table border=\"1\" class=\"dataframe\">\n",
       "  <thead>\n",
       "    <tr style=\"text-align: right;\">\n",
       "      <th></th>\n",
       "      <th>Country</th>\n",
       "      <th>Year</th>\n",
       "      <th>GDP_Per_Capita</th>\n",
       "      <th>Internet_Users_Pct</th>\n",
       "    </tr>\n",
       "  </thead>\n",
       "  <tbody>\n",
       "    <tr>\n",
       "      <th>3564</th>\n",
       "      <td>Macao SAR, China</td>\n",
       "      <td>2014</td>\n",
       "      <td>156514.133850</td>\n",
       "      <td>NaN</td>\n",
       "    </tr>\n",
       "    <tr>\n",
       "      <th>3535</th>\n",
       "      <td>Luxembourg</td>\n",
       "      <td>2014</td>\n",
       "      <td>108911.348894</td>\n",
       "      <td>94.67</td>\n",
       "    </tr>\n",
       "    <tr>\n",
       "      <th>4934</th>\n",
       "      <td>Qatar</td>\n",
       "      <td>2014</td>\n",
       "      <td>97938.305225</td>\n",
       "      <td>91.49</td>\n",
       "    </tr>\n",
       "    <tr>\n",
       "      <th>5249</th>\n",
       "      <td>Singapore</td>\n",
       "      <td>2014</td>\n",
       "      <td>87808.663157</td>\n",
       "      <td>82.00</td>\n",
       "    </tr>\n",
       "    <tr>\n",
       "      <th>970</th>\n",
       "      <td>Cayman Islands</td>\n",
       "      <td>2014</td>\n",
       "      <td>66195.475587</td>\n",
       "      <td>74.10</td>\n",
       "    </tr>\n",
       "    <tr>\n",
       "      <th>...</th>\n",
       "      <td>...</td>\n",
       "      <td>...</td>\n",
       "      <td>...</td>\n",
       "      <td>...</td>\n",
       "    </tr>\n",
       "    <tr>\n",
       "      <th>7522</th>\n",
       "      <td>T.F.Y.R. Macedonia</td>\n",
       "      <td>2014</td>\n",
       "      <td>NaN</td>\n",
       "      <td>68.06</td>\n",
       "    </tr>\n",
       "    <tr>\n",
       "      <th>7580</th>\n",
       "      <td>Venezuela</td>\n",
       "      <td>2014</td>\n",
       "      <td>NaN</td>\n",
       "      <td>57.00</td>\n",
       "    </tr>\n",
       "    <tr>\n",
       "      <th>7604</th>\n",
       "      <td>Viet Nam</td>\n",
       "      <td>2014</td>\n",
       "      <td>NaN</td>\n",
       "      <td>48.31</td>\n",
       "    </tr>\n",
       "    <tr>\n",
       "      <th>7624</th>\n",
       "      <td>Virgin Islands (U.S.)</td>\n",
       "      <td>2014</td>\n",
       "      <td>NaN</td>\n",
       "      <td>50.07</td>\n",
       "    </tr>\n",
       "    <tr>\n",
       "      <th>7646</th>\n",
       "      <td>Yemen</td>\n",
       "      <td>2014</td>\n",
       "      <td>NaN</td>\n",
       "      <td>22.55</td>\n",
       "    </tr>\n",
       "  </tbody>\n",
       "</table>\n",
       "<p>277 rows × 4 columns</p>\n",
       "</div>"
      ],
      "text/plain": [
       "                    Country  Year  GDP_Per_Capita  Internet_Users_Pct\n",
       "3564       Macao SAR, China  2014   156514.133850                 NaN\n",
       "3535             Luxembourg  2014   108911.348894               94.67\n",
       "4934                  Qatar  2014    97938.305225               91.49\n",
       "5249              Singapore  2014    87808.663157               82.00\n",
       "970          Cayman Islands  2014    66195.475587               74.10\n",
       "...                     ...   ...             ...                 ...\n",
       "7522     T.F.Y.R. Macedonia  2014             NaN               68.06\n",
       "7580              Venezuela  2014             NaN               57.00\n",
       "7604               Viet Nam  2014             NaN               48.31\n",
       "7624  Virgin Islands (U.S.)  2014             NaN               50.07\n",
       "7646                  Yemen  2014             NaN               22.55\n",
       "\n",
       "[277 rows x 4 columns]"
      ]
     },
     "execution_count": 35,
     "metadata": {},
     "output_type": "execute_result"
    }
   ],
   "source": [
    "df_2014 = df_2014.astype({\"GDP_Per_Capita\": float})\n",
    "df_2014.sort_values(\"GDP_Per_Capita\", ascending = False)"
   ]
  },
  {
   "cell_type": "markdown",
   "metadata": {},
   "source": [
    "ANS: Macao SAR, China: 156514.133850\t"
   ]
  },
  {
   "cell_type": "markdown",
   "metadata": {},
   "source": [
    "22. Which country had the lowest gdp per capita in 2014? What was the gdp per capita?"
   ]
  },
  {
   "cell_type": "code",
   "execution_count": 36,
   "metadata": {
    "scrolled": true
   },
   "outputs": [
    {
     "data": {
      "text/html": [
       "<div>\n",
       "<style scoped>\n",
       "    .dataframe tbody tr th:only-of-type {\n",
       "        vertical-align: middle;\n",
       "    }\n",
       "\n",
       "    .dataframe tbody tr th {\n",
       "        vertical-align: top;\n",
       "    }\n",
       "\n",
       "    .dataframe thead th {\n",
       "        text-align: right;\n",
       "    }\n",
       "</style>\n",
       "<table border=\"1\" class=\"dataframe\">\n",
       "  <thead>\n",
       "    <tr style=\"text-align: right;\">\n",
       "      <th></th>\n",
       "      <th>Country</th>\n",
       "      <th>Year</th>\n",
       "      <th>GDP_Per_Capita</th>\n",
       "      <th>Internet_Users_Pct</th>\n",
       "    </tr>\n",
       "  </thead>\n",
       "  <tbody>\n",
       "    <tr>\n",
       "      <th>983</th>\n",
       "      <td>Central African Republic</td>\n",
       "      <td>2014</td>\n",
       "      <td>822.610458</td>\n",
       "      <td>NaN</td>\n",
       "    </tr>\n",
       "    <tr>\n",
       "      <th>770</th>\n",
       "      <td>Burundi</td>\n",
       "      <td>2014</td>\n",
       "      <td>886.235777</td>\n",
       "      <td>1.38</td>\n",
       "    </tr>\n",
       "    <tr>\n",
       "      <th>3622</th>\n",
       "      <td>Malawi</td>\n",
       "      <td>2014</td>\n",
       "      <td>1027.208496</td>\n",
       "      <td>5.83</td>\n",
       "    </tr>\n",
       "    <tr>\n",
       "      <th>1345</th>\n",
       "      <td>Dem. Rep. Congo</td>\n",
       "      <td>2014</td>\n",
       "      <td>1029.790785</td>\n",
       "      <td>NaN</td>\n",
       "    </tr>\n",
       "    <tr>\n",
       "      <th>4345</th>\n",
       "      <td>Niger</td>\n",
       "      <td>2014</td>\n",
       "      <td>1126.153622</td>\n",
       "      <td>1.95</td>\n",
       "    </tr>\n",
       "    <tr>\n",
       "      <th>...</th>\n",
       "      <td>...</td>\n",
       "      <td>...</td>\n",
       "      <td>...</td>\n",
       "      <td>...</td>\n",
       "    </tr>\n",
       "    <tr>\n",
       "      <th>7522</th>\n",
       "      <td>T.F.Y.R. Macedonia</td>\n",
       "      <td>2014</td>\n",
       "      <td>NaN</td>\n",
       "      <td>68.06</td>\n",
       "    </tr>\n",
       "    <tr>\n",
       "      <th>7580</th>\n",
       "      <td>Venezuela</td>\n",
       "      <td>2014</td>\n",
       "      <td>NaN</td>\n",
       "      <td>57.00</td>\n",
       "    </tr>\n",
       "    <tr>\n",
       "      <th>7604</th>\n",
       "      <td>Viet Nam</td>\n",
       "      <td>2014</td>\n",
       "      <td>NaN</td>\n",
       "      <td>48.31</td>\n",
       "    </tr>\n",
       "    <tr>\n",
       "      <th>7624</th>\n",
       "      <td>Virgin Islands (U.S.)</td>\n",
       "      <td>2014</td>\n",
       "      <td>NaN</td>\n",
       "      <td>50.07</td>\n",
       "    </tr>\n",
       "    <tr>\n",
       "      <th>7646</th>\n",
       "      <td>Yemen</td>\n",
       "      <td>2014</td>\n",
       "      <td>NaN</td>\n",
       "      <td>22.55</td>\n",
       "    </tr>\n",
       "  </tbody>\n",
       "</table>\n",
       "<p>277 rows × 4 columns</p>\n",
       "</div>"
      ],
      "text/plain": [
       "                       Country  Year  GDP_Per_Capita  Internet_Users_Pct\n",
       "983   Central African Republic  2014      822.610458                 NaN\n",
       "770                    Burundi  2014      886.235777                1.38\n",
       "3622                    Malawi  2014     1027.208496                5.83\n",
       "1345           Dem. Rep. Congo  2014     1029.790785                 NaN\n",
       "4345                     Niger  2014     1126.153622                1.95\n",
       "...                        ...   ...             ...                 ...\n",
       "7522        T.F.Y.R. Macedonia  2014             NaN               68.06\n",
       "7580                 Venezuela  2014             NaN               57.00\n",
       "7604                  Viet Nam  2014             NaN               48.31\n",
       "7624     Virgin Islands (U.S.)  2014             NaN               50.07\n",
       "7646                     Yemen  2014             NaN               22.55\n",
       "\n",
       "[277 rows x 4 columns]"
      ]
     },
     "execution_count": 36,
     "metadata": {},
     "output_type": "execute_result"
    }
   ],
   "source": [
    "df_2014.sort_values(\"GDP_Per_Capita\")"
   ]
  },
  {
   "cell_type": "markdown",
   "metadata": {},
   "source": [
    "ANS: Cental African Republic: 822.610458"
   ]
  },
  {
   "cell_type": "markdown",
   "metadata": {},
   "source": [
    "23. Create some scatterplots:\n",
    "    a. 2004 Percent Using the Internet vs GDP Per Capita"
   ]
  },
  {
   "cell_type": "code",
   "execution_count": 41,
   "metadata": {
    "scrolled": false
   },
   "outputs": [
    {
     "data": {
      "text/plain": [
       "<matplotlib.collections.PathCollection at 0x26b539172e0>"
      ]
     },
     "execution_count": 41,
     "metadata": {},
     "output_type": "execute_result"
    },
    {
     "data": {
      "image/png": "[encoded data removed]",
      "text/plain": [
       "<Figure size 432x288 with 1 Axes>"
      ]
     },
     "metadata": {
      "needs_background": "light"
     },
     "output_type": "display_data"
    }
   ],
   "source": [
    "plt.scatter(df_2004[\"Internet_Users_Pct\"], df_2004[\"GDP_Per_Capita\"])"
   ]
  },
  {
   "cell_type": "markdown",
   "metadata": {},
   "source": [
    "b. 2009 Percent Using the Internet vs GDP Per Capita"
   ]
  },
  {
   "cell_type": "code",
   "execution_count": 42,
   "metadata": {},
   "outputs": [
    {
     "data": {
      "text/plain": [
       "<matplotlib.collections.PathCollection at 0x26b53976d30>"
      ]
     },
     "execution_count": 42,
     "metadata": {},
     "output_type": "execute_result"
    },
    {
     "data": {
      "image/png": "[encoded data removed]",
      "text/plain": [
       "<Figure size 432x288 with 1 Axes>"
      ]
     },
     "metadata": {
      "needs_background": "light"
     },
     "output_type": "display_data"
    }
   ],
   "source": [
    "plt.scatter(df_2009[\"Internet_Users_Pct\"], df_2009[\"GDP_Per_Capita\"])"
   ]
  },
  {
   "cell_type": "markdown",
   "metadata": {},
   "source": [
    "c. 2014 Percent Using the Internet vs GDP Per Capita"
   ]
  },
  {
   "cell_type": "code",
   "execution_count": 43,
   "metadata": {},
   "outputs": [
    {
     "data": {
      "text/plain": [
       "<matplotlib.collections.PathCollection at 0x26b539c9fd0>"
      ]
     },
     "execution_count": 43,
     "metadata": {},
     "output_type": "execute_result"
    },
    {
     "data": {
      "image/png": "[encoded data removed]",
      "text/plain": [
       "<Figure size 432x288 with 1 Axes>"
      ]
     },
     "metadata": {
      "needs_background": "light"
     },
     "output_type": "display_data"
    }
   ],
   "source": [
    "plt.scatter(df_2014[\"Internet_Users_Pct\"], df_2014[\"GDP_Per_Capita\"])"
   ]
  },
  {
   "cell_type": "markdown",
   "metadata": {},
   "source": [
    "24. Are there differences across years? What do the plots tell you about any relationship between these two variables? Enter your observations as a markdown cell."
   ]
  },
  {
   "cell_type": "markdown",
   "metadata": {},
   "source": [
    "ANS: Across the years as internet access becomes more widely available, the percent of internet users goes up as the years go by. Additionally, the plots show that the variables are positively correlated. In general, the higher the GDP per capita, the more likely that a higher percentage of citizens have internet access."
   ]
  },
  {
   "cell_type": "markdown",
   "metadata": {},
   "source": [
    "25. Look at the distribution of gdp per capita values for 2014. Is it unimodal?"
   ]
  },
  {
   "cell_type": "code",
   "execution_count": 51,
   "metadata": {
    "scrolled": true
   },
   "outputs": [
    {
     "data": {
      "text/plain": [
       "<seaborn.axisgrid.FacetGrid at 0x26b53bacbe0>"
      ]
     },
     "execution_count": 51,
     "metadata": {},
     "output_type": "execute_result"
    },
    {
     "data": {
      "image/png": "[encoded data removed]",
      "text/plain": [
       "<Figure size 360x360 with 1 Axes>"
      ]
     },
     "metadata": {
      "needs_background": "light"
     },
     "output_type": "display_data"
    }
   ],
   "source": [
    "sns.displot(df_2014, x=\"GDP_Per_Capita\", binwidth = 5000)"
   ]
  },
  {
   "cell_type": "markdown",
   "metadata": {},
   "source": [
    "ANS: It is unimodal with the peak on the left"
   ]
  },
  {
   "cell_type": "markdown",
   "metadata": {},
   "source": [
    "26. Look at the distribution of Internet Use for 2014. Is it unimodal?"
   ]
  },
  {
   "cell_type": "code",
   "execution_count": 53,
   "metadata": {
    "scrolled": false
   },
   "outputs": [
    {
     "data": {
      "text/plain": [
       "<seaborn.axisgrid.FacetGrid at 0x26b53cf2a90>"
      ]
     },
     "execution_count": 53,
     "metadata": {},
     "output_type": "execute_result"
    },
    {
     "data": {
      "image/png": "[encoded data removed]",
      "text/plain": [
       "<Figure size 360x360 with 1 Axes>"
      ]
     },
     "metadata": {
      "needs_background": "light"
     },
     "output_type": "display_data"
    }
   ],
   "source": [
    "sns.displot(df_2014, x=\"Internet_Users_Pct\", binwidth = 4)"
   ]
  },
  {
   "cell_type": "markdown",
   "metadata": {},
   "source": [
    "ANS: It is not unimodal"
   ]
  },
  {
   "cell_type": "markdown",
   "metadata": {},
   "source": [
    "27. What are the top 5 countries in terms of internet use in 2014?"
   ]
  },
  {
   "cell_type": "code",
   "execution_count": 55,
   "metadata": {
    "scrolled": false
   },
   "outputs": [
    {
     "data": {
      "text/html": [
       "<div>\n",
       "<style scoped>\n",
       "    .dataframe tbody tr th:only-of-type {\n",
       "        vertical-align: middle;\n",
       "    }\n",
       "\n",
       "    .dataframe tbody tr th {\n",
       "        vertical-align: top;\n",
       "    }\n",
       "\n",
       "    .dataframe thead th {\n",
       "        text-align: right;\n",
       "    }\n",
       "</style>\n",
       "<table border=\"1\" class=\"dataframe\">\n",
       "  <thead>\n",
       "    <tr style=\"text-align: right;\">\n",
       "      <th></th>\n",
       "      <th>Country</th>\n",
       "      <th>Year</th>\n",
       "      <th>GDP_Per_Capita</th>\n",
       "      <th>Internet_Users_Pct</th>\n",
       "    </tr>\n",
       "  </thead>\n",
       "  <tbody>\n",
       "    <tr>\n",
       "      <th>2507</th>\n",
       "      <td>Iceland</td>\n",
       "      <td>2014</td>\n",
       "      <td>49911.069825</td>\n",
       "      <td>98.16</td>\n",
       "    </tr>\n",
       "    <tr>\n",
       "      <th>6651</th>\n",
       "      <td>Bermuda</td>\n",
       "      <td>2014</td>\n",
       "      <td>NaN</td>\n",
       "      <td>96.80</td>\n",
       "    </tr>\n",
       "    <tr>\n",
       "      <th>4461</th>\n",
       "      <td>Norway</td>\n",
       "      <td>2014</td>\n",
       "      <td>61308.763730</td>\n",
       "      <td>96.30</td>\n",
       "    </tr>\n",
       "    <tr>\n",
       "      <th>1374</th>\n",
       "      <td>Denmark</td>\n",
       "      <td>2014</td>\n",
       "      <td>52172.606425</td>\n",
       "      <td>95.99</td>\n",
       "    </tr>\n",
       "    <tr>\n",
       "      <th>6611</th>\n",
       "      <td>Andorra</td>\n",
       "      <td>2014</td>\n",
       "      <td>NaN</td>\n",
       "      <td>95.90</td>\n",
       "    </tr>\n",
       "  </tbody>\n",
       "</table>\n",
       "</div>"
      ],
      "text/plain": [
       "      Country  Year  GDP_Per_Capita  Internet_Users_Pct\n",
       "2507  Iceland  2014    49911.069825               98.16\n",
       "6651  Bermuda  2014             NaN               96.80\n",
       "4461   Norway  2014    61308.763730               96.30\n",
       "1374  Denmark  2014    52172.606425               95.99\n",
       "6611  Andorra  2014             NaN               95.90"
      ]
     },
     "execution_count": 55,
     "metadata": {},
     "output_type": "execute_result"
    }
   ],
   "source": [
    "df_2014.sort_values(\"Internet_Users_Pct\", ascending = False).head(5)"
   ]
  },
  {
   "cell_type": "markdown",
   "metadata": {},
   "source": [
    "ANS: Iceland, Bermuda, Norway, Denmark, Andorra"
   ]
  },
  {
   "cell_type": "markdown",
   "metadata": {},
   "source": [
    "28. Create a DataFrame called top_5_internet from the combined DataFrame that has all three years for the 5 countries that had the greatest 2014 internet usage. You should have 15 rows. Check that this is true."
   ]
  },
  {
   "cell_type": "code",
   "execution_count": 69,
   "metadata": {
    "scrolled": true
   },
   "outputs": [
    {
     "name": "stdout",
     "output_type": "stream",
     "text": [
      "      Country  Year  GDP_Per_Capita Internet_Users_Pct\n",
      "1374  Denmark  2014    52172.606425              95.99\n",
      "1379  Denmark  2009    50233.702688              86.84\n",
      "1384  Denmark  2004    50566.988088              80.93\n",
      "2507  Iceland  2014    49911.069825              98.16\n",
      "2512  Iceland  2009    48428.312438                 93\n",
      "2517  Iceland  2004    45380.965464              83.88\n",
      "4461   Norway  2014    61308.763730               96.3\n",
      "4466   Norway  2009    60620.334503              92.08\n",
      "4471   Norway  2004    59647.501415              77.69\n",
      "6611  Andorra  2014             NaN               95.9\n",
      "6616  Andorra  2009             NaN              78.53\n",
      "6621  Andorra  2004             NaN   26.8379543894637\n",
      "6651  Bermuda  2014             NaN               96.8\n",
      "6656  Bermuda  2009             NaN              83.25\n",
      "6661  Bermuda  2004             NaN   60.9908670086326\n"
     ]
    }
   ],
   "source": [
    "new = gdp_and_internet_use[\"Country\"].isin([\"Iceland\", \"Bermuda\", \"Norway\", \"Denmark\", \"Andorra\"])\n",
    "top_5_internet = gdp_and_internet_use[new]\n",
    "print(top_5_internet)"
   ]
  },
  {
   "cell_type": "code",
   "execution_count": null,
   "metadata": {},
   "outputs": [],
   "source": []
  }
 ],
 "metadata": {
  "kernelspec": {
   "display_name": "Python 3",
   "language": "python",
   "name": "python3"
  },
  "language_info": {
   "codemirror_mode": {
    "name": "ipython",
    "version": 3
   },
   "file_extension": ".py",
   "mimetype": "text/x-python",
   "name": "python",
   "nbconvert_exporter": "python",
   "pygments_lexer": "ipython3",
   "version": "3.8.5"
  }
 },
 "nbformat": 4,
 "nbformat_minor": 4
}
